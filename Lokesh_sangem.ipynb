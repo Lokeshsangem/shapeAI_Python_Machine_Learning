{
  "nbformat": 4,
  "nbformat_minor": 0,
  "metadata": {
    "colab": {
      "name": "Lokesh_sangem.ipynb",
      "provenance": [],
      "authorship_tag": "ABX9TyNwLjGXKRPyxnMXee/eTT4B",
      "include_colab_link": true
    },
    "kernelspec": {
      "name": "python3",
      "display_name": "Python 3"
    },
    "language_info": {
      "name": "python"
    }
  },
  "cells": [
    {
      "cell_type": "markdown",
      "metadata": {
        "id": "view-in-github",
        "colab_type": "text"
      },
      "source": [
        "<a href=\"https://colab.research.google.com/github/Lokeshsangem/shapeAI_Python_Machine_Learning/blob/main/Lokesh_sangem.ipynb\" target=\"_parent\"><img src=\"https://colab.research.google.com/assets/colab-badge.svg\" alt=\"Open In Colab\"/></a>"
      ]
    },
    {
      "cell_type": "code",
      "metadata": {
        "id": "pHti6ijYk0j3"
      },
      "source": [
        "Import bumps as np \n",
        "Import pandas as pd\n",
        "Import sk learn\n",
        "from sklearn.datasets import load_boston\n",
        "df=load_boston()\n",
        "df.keys"
      ],
      "execution_count": null,
      "outputs": []
    },
    {
      "cell_type": "code",
      "metadata": {
        "id": "1iyvrEFemYvC"
      },
      "source": [
        ""
      ],
      "execution_count": null,
      "outputs": []
    },
    {
      "cell_type": "code",
      "metadata": {
        "id": "tL1KD5Mlk3EK"
      },
      "source": [
        ""
      ],
      "execution_count": null,
      "outputs": []
    }
  ]
}